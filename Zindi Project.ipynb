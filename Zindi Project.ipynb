{
 "cells": [
  {
   "cell_type": "markdown",
   "id": "f26c2c4c-0501-4836-95e3-514d67a6abb0",
   "metadata": {},
   "source": [
    "<span style=\"color:black;\"> **Cassava is a staple food in most African countries and other parts of the world. Evaluating the root volume of tuber crops such as cassava is important for farmers, but traditional root volume estimation methods are labour intensive and invasive. Even though cassava plants are grown from cuttings that are exact copies (clones) of the parent plant, the amount of roots they produce still varies. The variability in root yield is not directly linked to the plant’s leaves or branches (canopy). This is still an active area of research.** </span>\n",
    "\n",
    "**Farmers and agricultural researchers need to accurately estimate cassava root volume to increase growth and yield potential, define better crop management practices, and select strong varieties for drought hardiness, stress tolerance, and improved pest and disease resistance,**\n",
    "\n",
    "<span style=\"color:red;\"> **In this challenge, your goal is to estimate the root volume of different cassava plant varieties using a set of images that depict these different types. You will use computer vision and machine learning techniques to develop a robust, generalisable machine learning model for root volume estimation.** </span>\n",
    "\n",
    "**The methods used to measure root volume in this challenge are non-destructive, since the physical extraction of the roots for measurements is not required. This is particularly useful since extracting and physically measuring the roots can be labour intensive, damaging to the plants, or infeasible.**\n",
    "\n",
    "<span style=\"color:Orange;\"> **Your solutions will help farmers grow better cassava crops, and address food security challenges across Africa.** </span>\n",
    "\n",
    "<span style=\"color:blue;\"> **The data for this challenge consists of separate folders of images of the roots of various cassava plants in the early and late stages of their growth. These images are obtained from scans of the cassava roots at different depths.** </span>"
   ]
  },
  {
   "cell_type": "code",
   "execution_count": null,
   "id": "0a198612-fe61-45c1-86ff-c54260e1382c",
   "metadata": {},
   "outputs": [],
   "source": []
  },
  {
   "cell_type": "markdown",
   "id": "cae39c99-c6c0-4215-b565-19f0af502869",
   "metadata": {},
   "source": [
    "### <span style=\"color:red;\"> **Evaluation** </span>\n",
    "* <span style=\"color:blue;\"> **The evaluation metric for this competition is RMSE.** </span>\n",
    "\n",
    "* <span style=\"color:blue;\"> **For every row in the dataset, submission files should contain 2 columns: ID and RootVolume.** </span>\n",
    "\n",
    "* <span style=\"color:blue;\"> **Where RootVolume is the target variable.** </span>\n",
    "\n",
    "* <span style=\"color:blue;\"> **Your submission file should look like this (numbers to show format only):** </span>"
   ]
  },
  {
   "cell_type": "markdown",
   "id": "f34b72e0-49f8-4f9a-ad2c-e7c636df152a",
   "metadata": {},
   "source": [
    "<span style=\"color:green;\"> **The estimation of root volume should take into account the left and right images, since these represent parts of the full image. The full image can be segmented to identify the roots of the individual plant in it. Following this, you should then carry on with volume estimation.** </span>\n"
   ]
  },
  {
   "cell_type": "markdown",
   "id": "5011529d-5648-4836-a4a4-8618ebe91a07",
   "metadata": {},
   "source": [
    "<span style=\"color:black;\"> **In addition to the image dataset, there is a CSV file containing suggested layer ranges with optimal images for training. You don’t have to adhere to these ranges. For each folder, the range of layers selected should also be listed in your submission.** </span>"
   ]
  },
  {
   "cell_type": "code",
   "execution_count": 1,
   "id": "9c1780b1-327e-4bac-8a77-9c69c88ef816",
   "metadata": {},
   "outputs": [],
   "source": [
    "# import the requred libraries\n",
    "import pandas as pd\n",
    "import matplotlib.pyplot as plt\n",
    "import numpy as np\n",
    "import seaborn as sns"
   ]
  },
  {
   "cell_type": "code",
   "execution_count": 32,
   "id": "725c15b6-6af2-4aa9-98ec-a5f058c73be8",
   "metadata": {},
   "outputs": [],
   "source": [
    "# load the datasets\n",
    "\n",
    "train_data = pd.read_csv (\"C:/Users/Alvine/Desktop/Zindi Competition/Train.csv\") # training dataset\n",
    "test_data = pd.read_csv (\"C:/Users/Alvine/Desktop/Zindi Competition/Test.csv\") # testing dataset"
   ]
  },
  {
   "cell_type": "code",
   "execution_count": 33,
   "id": "f9e95b44-6db9-4138-b599-9dabf3907f8b",
   "metadata": {},
   "outputs": [
    {
     "data": {
      "text/html": [
       "<div>\n",
       "<style scoped>\n",
       "    .dataframe tbody tr th:only-of-type {\n",
       "        vertical-align: middle;\n",
       "    }\n",
       "\n",
       "    .dataframe tbody tr th {\n",
       "        vertical-align: top;\n",
       "    }\n",
       "\n",
       "    .dataframe thead th {\n",
       "        text-align: right;\n",
       "    }\n",
       "</style>\n",
       "<table border=\"1\" class=\"dataframe\">\n",
       "  <thead>\n",
       "    <tr style=\"text-align: right;\">\n",
       "      <th></th>\n",
       "      <th>ID</th>\n",
       "      <th>FolderName</th>\n",
       "      <th>PlantNumber</th>\n",
       "      <th>Side</th>\n",
       "      <th>Start</th>\n",
       "      <th>End</th>\n",
       "      <th>RootVolume</th>\n",
       "      <th>Genotype</th>\n",
       "      <th>Stage</th>\n",
       "    </tr>\n",
       "  </thead>\n",
       "  <tbody>\n",
       "    <tr>\n",
       "      <th>381</th>\n",
       "      <td>ID_592215_Hfzzen</td>\n",
       "      <td>Ntqusw7xpb</td>\n",
       "      <td>4</td>\n",
       "      <td>L</td>\n",
       "      <td>19</td>\n",
       "      <td>31</td>\n",
       "      <td>2.2</td>\n",
       "      <td>TMEB419</td>\n",
       "      <td>Early</td>\n",
       "    </tr>\n",
       "    <tr>\n",
       "      <th>382</th>\n",
       "      <td>ID_995502_L5bkz9</td>\n",
       "      <td>Izbgyxre0g</td>\n",
       "      <td>4</td>\n",
       "      <td>R</td>\n",
       "      <td>22</td>\n",
       "      <td>33</td>\n",
       "      <td>1.3</td>\n",
       "      <td>IBA154810</td>\n",
       "      <td>Early</td>\n",
       "    </tr>\n",
       "    <tr>\n",
       "      <th>383</th>\n",
       "      <td>ID_490708_Isn2o5</td>\n",
       "      <td>Efaiye0hmy</td>\n",
       "      <td>1</td>\n",
       "      <td>R</td>\n",
       "      <td>20</td>\n",
       "      <td>30</td>\n",
       "      <td>4.8</td>\n",
       "      <td>IBA980581</td>\n",
       "      <td>Early</td>\n",
       "    </tr>\n",
       "    <tr>\n",
       "      <th>384</th>\n",
       "      <td>ID_899134_Gyrlfg</td>\n",
       "      <td>Rzyf8hal4j</td>\n",
       "      <td>1</td>\n",
       "      <td>R</td>\n",
       "      <td>38</td>\n",
       "      <td>47</td>\n",
       "      <td>1.3</td>\n",
       "      <td>IBA154810</td>\n",
       "      <td>Early</td>\n",
       "    </tr>\n",
       "    <tr>\n",
       "      <th>385</th>\n",
       "      <td>ID_747792_Ofa0wh</td>\n",
       "      <td>Izbgyxre0g</td>\n",
       "      <td>6</td>\n",
       "      <td>R</td>\n",
       "      <td>22</td>\n",
       "      <td>33</td>\n",
       "      <td>3.7</td>\n",
       "      <td>IBA154810</td>\n",
       "      <td>Early</td>\n",
       "    </tr>\n",
       "  </tbody>\n",
       "</table>\n",
       "</div>"
      ],
      "text/plain": [
       "                   ID  FolderName  PlantNumber Side  Start  End  RootVolume  \\\n",
       "381  ID_592215_Hfzzen  Ntqusw7xpb            4    L     19   31         2.2   \n",
       "382  ID_995502_L5bkz9  Izbgyxre0g            4    R     22   33         1.3   \n",
       "383  ID_490708_Isn2o5  Efaiye0hmy            1    R     20   30         4.8   \n",
       "384  ID_899134_Gyrlfg  Rzyf8hal4j            1    R     38   47         1.3   \n",
       "385  ID_747792_Ofa0wh  Izbgyxre0g            6    R     22   33         3.7   \n",
       "\n",
       "      Genotype  Stage  \n",
       "381    TMEB419  Early  \n",
       "382  IBA154810  Early  \n",
       "383  IBA980581  Early  \n",
       "384  IBA154810  Early  \n",
       "385  IBA154810  Early  "
      ]
     },
     "execution_count": 33,
     "metadata": {},
     "output_type": "execute_result"
    }
   ],
   "source": [
    "# display the first 5 records for training dataset to have a clear glimpsy of the data we have\n",
    "train_data.tail()"
   ]
  },
  {
   "cell_type": "code",
   "execution_count": 34,
   "id": "c7ae6a47-980b-4d84-8cb1-19e4b537b435",
   "metadata": {},
   "outputs": [
    {
     "data": {
      "text/html": [
       "<div>\n",
       "<style scoped>\n",
       "    .dataframe tbody tr th:only-of-type {\n",
       "        vertical-align: middle;\n",
       "    }\n",
       "\n",
       "    .dataframe tbody tr th {\n",
       "        vertical-align: top;\n",
       "    }\n",
       "\n",
       "    .dataframe thead th {\n",
       "        text-align: right;\n",
       "    }\n",
       "</style>\n",
       "<table border=\"1\" class=\"dataframe\">\n",
       "  <thead>\n",
       "    <tr style=\"text-align: right;\">\n",
       "      <th></th>\n",
       "      <th>ID</th>\n",
       "      <th>FolderName</th>\n",
       "      <th>PlantNumber</th>\n",
       "      <th>Side</th>\n",
       "      <th>Start</th>\n",
       "      <th>End</th>\n",
       "      <th>Genotype</th>\n",
       "      <th>Stage</th>\n",
       "    </tr>\n",
       "  </thead>\n",
       "  <tbody>\n",
       "    <tr>\n",
       "      <th>0</th>\n",
       "      <td>ID_208667_Hnkl8q</td>\n",
       "      <td>L5l1h3kekg</td>\n",
       "      <td>7</td>\n",
       "      <td>L</td>\n",
       "      <td>38</td>\n",
       "      <td>50</td>\n",
       "      <td>IITA-TMS-IBA000070</td>\n",
       "      <td>Early</td>\n",
       "    </tr>\n",
       "    <tr>\n",
       "      <th>1</th>\n",
       "      <td>ID_285249_Jnjvav</td>\n",
       "      <td>Wgutyon8uu</td>\n",
       "      <td>6</td>\n",
       "      <td>R</td>\n",
       "      <td>23</td>\n",
       "      <td>37</td>\n",
       "      <td>TMEB419</td>\n",
       "      <td>Early</td>\n",
       "    </tr>\n",
       "    <tr>\n",
       "      <th>2</th>\n",
       "      <td>ID_697947_Yec6bd</td>\n",
       "      <td>Mylwjeq6tq</td>\n",
       "      <td>3</td>\n",
       "      <td>R</td>\n",
       "      <td>19</td>\n",
       "      <td>42</td>\n",
       "      <td>IBA980581</td>\n",
       "      <td>Early</td>\n",
       "    </tr>\n",
       "    <tr>\n",
       "      <th>3</th>\n",
       "      <td>ID_534638_X3j91f</td>\n",
       "      <td>Pfp24vx905</td>\n",
       "      <td>2</td>\n",
       "      <td>R</td>\n",
       "      <td>27</td>\n",
       "      <td>34</td>\n",
       "      <td>TMEB419</td>\n",
       "      <td>Early</td>\n",
       "    </tr>\n",
       "    <tr>\n",
       "      <th>4</th>\n",
       "      <td>ID_929298_Xvymuz</td>\n",
       "      <td>Mrw7chmalv</td>\n",
       "      <td>4</td>\n",
       "      <td>R</td>\n",
       "      <td>30</td>\n",
       "      <td>43</td>\n",
       "      <td>IBA154810</td>\n",
       "      <td>Early</td>\n",
       "    </tr>\n",
       "  </tbody>\n",
       "</table>\n",
       "</div>"
      ],
      "text/plain": [
       "                 ID  FolderName  PlantNumber Side  Start  End  \\\n",
       "0  ID_208667_Hnkl8q  L5l1h3kekg            7    L     38   50   \n",
       "1  ID_285249_Jnjvav  Wgutyon8uu            6    R     23   37   \n",
       "2  ID_697947_Yec6bd  Mylwjeq6tq            3    R     19   42   \n",
       "3  ID_534638_X3j91f  Pfp24vx905            2    R     27   34   \n",
       "4  ID_929298_Xvymuz  Mrw7chmalv            4    R     30   43   \n",
       "\n",
       "             Genotype  Stage  \n",
       "0  IITA-TMS-IBA000070  Early  \n",
       "1             TMEB419  Early  \n",
       "2           IBA980581  Early  \n",
       "3             TMEB419  Early  \n",
       "4           IBA154810  Early  "
      ]
     },
     "execution_count": 34,
     "metadata": {},
     "output_type": "execute_result"
    }
   ],
   "source": [
    "# display the first 5 records fro testing dataset to have a clear glimpsy of the data we have\n",
    "test_data.head()"
   ]
  },
  {
   "cell_type": "markdown",
   "id": "e8b70340-79bf-47e3-a965-c416896acdbf",
   "metadata": {},
   "source": [
    "#### EDA ON TRAINING SET"
   ]
  },
  {
   "cell_type": "code",
   "execution_count": 35,
   "id": "9cdc6ee7-55a2-4f59-b11f-5d4ecf667efd",
   "metadata": {},
   "outputs": [
    {
     "data": {
      "text/plain": [
       "(386, 9)"
      ]
     },
     "execution_count": 35,
     "metadata": {},
     "output_type": "execute_result"
    }
   ],
   "source": [
    "# Check the data size to see the total number of rows and records in training set\n",
    "train_data.shape"
   ]
  },
  {
   "cell_type": "markdown",
   "id": "0553003a-aa90-46d2-bbad-533f2f230502",
   "metadata": {},
   "source": [
    "* *from the output we can see that we have up to a total of 386 rows in the training dataset, which is relatively a smaller number of record* "
   ]
  },
  {
   "cell_type": "code",
   "execution_count": 36,
   "id": "95f954f0-ea2f-4596-b09e-61a30b882e62",
   "metadata": {},
   "outputs": [
    {
     "name": "stdout",
     "output_type": "stream",
     "text": [
      "<class 'pandas.core.frame.DataFrame'>\n",
      "RangeIndex: 386 entries, 0 to 385\n",
      "Data columns (total 9 columns):\n",
      " #   Column       Non-Null Count  Dtype  \n",
      "---  ------       --------------  -----  \n",
      " 0   ID           386 non-null    object \n",
      " 1   FolderName   386 non-null    object \n",
      " 2   PlantNumber  386 non-null    int64  \n",
      " 3   Side         386 non-null    object \n",
      " 4   Start        386 non-null    int64  \n",
      " 5   End          386 non-null    int64  \n",
      " 6   RootVolume   386 non-null    float64\n",
      " 7   Genotype     386 non-null    object \n",
      " 8   Stage        386 non-null    object \n",
      "dtypes: float64(1), int64(3), object(5)\n",
      "memory usage: 27.3+ KB\n"
     ]
    }
   ],
   "source": [
    "# Check the datatypes and further info from the data\n",
    "train_data.info()"
   ]
  },
  {
   "cell_type": "code",
   "execution_count": 37,
   "id": "612a804f-1b97-4ff5-b5e9-f3c83245e775",
   "metadata": {},
   "outputs": [
    {
     "data": {
      "text/plain": [
       "ID              object\n",
       "FolderName      object\n",
       "PlantNumber      int64\n",
       "Side            object\n",
       "Start            int64\n",
       "End              int64\n",
       "RootVolume     float64\n",
       "Genotype        object\n",
       "Stage           object\n",
       "dtype: object"
      ]
     },
     "execution_count": 37,
     "metadata": {},
     "output_type": "execute_result"
    }
   ],
   "source": [
    "train_data.dtypes\n"
   ]
  },
  {
   "cell_type": "markdown",
   "id": "fcf53f98-32eb-4e4b-96a2-5dfe820debeb",
   "metadata": {},
   "source": [
    "* *From the output, it is clear that we have three integer columns and 5 strings columns and 1 float column*"
   ]
  },
  {
   "cell_type": "code",
   "execution_count": 38,
   "id": "d62d651e-ed79-4324-bfea-d647cf14d62f",
   "metadata": {},
   "outputs": [
    {
     "data": {
      "text/html": [
       "<div>\n",
       "<style scoped>\n",
       "    .dataframe tbody tr th:only-of-type {\n",
       "        vertical-align: middle;\n",
       "    }\n",
       "\n",
       "    .dataframe tbody tr th {\n",
       "        vertical-align: top;\n",
       "    }\n",
       "\n",
       "    .dataframe thead th {\n",
       "        text-align: right;\n",
       "    }\n",
       "</style>\n",
       "<table border=\"1\" class=\"dataframe\">\n",
       "  <thead>\n",
       "    <tr style=\"text-align: right;\">\n",
       "      <th></th>\n",
       "      <th>count</th>\n",
       "      <th>mean</th>\n",
       "      <th>std</th>\n",
       "      <th>min</th>\n",
       "      <th>25%</th>\n",
       "      <th>50%</th>\n",
       "      <th>75%</th>\n",
       "      <th>max</th>\n",
       "    </tr>\n",
       "  </thead>\n",
       "  <tbody>\n",
       "    <tr>\n",
       "      <th>PlantNumber</th>\n",
       "      <td>386.0</td>\n",
       "      <td>3.974093</td>\n",
       "      <td>1.508195</td>\n",
       "      <td>1.0</td>\n",
       "      <td>3.0</td>\n",
       "      <td>4.0</td>\n",
       "      <td>5.0</td>\n",
       "      <td>7.0</td>\n",
       "    </tr>\n",
       "    <tr>\n",
       "      <th>Start</th>\n",
       "      <td>386.0</td>\n",
       "      <td>27.018135</td>\n",
       "      <td>8.234686</td>\n",
       "      <td>8.0</td>\n",
       "      <td>22.0</td>\n",
       "      <td>26.0</td>\n",
       "      <td>32.0</td>\n",
       "      <td>49.0</td>\n",
       "    </tr>\n",
       "    <tr>\n",
       "      <th>End</th>\n",
       "      <td>386.0</td>\n",
       "      <td>36.989637</td>\n",
       "      <td>7.960611</td>\n",
       "      <td>14.0</td>\n",
       "      <td>32.0</td>\n",
       "      <td>37.0</td>\n",
       "      <td>42.0</td>\n",
       "      <td>60.0</td>\n",
       "    </tr>\n",
       "    <tr>\n",
       "      <th>RootVolume</th>\n",
       "      <td>386.0</td>\n",
       "      <td>2.052306</td>\n",
       "      <td>1.526302</td>\n",
       "      <td>0.0</td>\n",
       "      <td>0.9</td>\n",
       "      <td>1.9</td>\n",
       "      <td>2.7</td>\n",
       "      <td>11.0</td>\n",
       "    </tr>\n",
       "  </tbody>\n",
       "</table>\n",
       "</div>"
      ],
      "text/plain": [
       "             count       mean       std   min   25%   50%   75%   max\n",
       "PlantNumber  386.0   3.974093  1.508195   1.0   3.0   4.0   5.0   7.0\n",
       "Start        386.0  27.018135  8.234686   8.0  22.0  26.0  32.0  49.0\n",
       "End          386.0  36.989637  7.960611  14.0  32.0  37.0  42.0  60.0\n",
       "RootVolume   386.0   2.052306  1.526302   0.0   0.9   1.9   2.7  11.0"
      ]
     },
     "execution_count": 38,
     "metadata": {},
     "output_type": "execute_result"
    }
   ],
   "source": [
    "# Do Summary Statistics\n",
    "train_data.describe().T"
   ]
  },
  {
   "cell_type": "markdown",
   "id": "b8368a29-bc7b-4be1-90d2-360bfff1f86c",
   "metadata": {},
   "source": [
    "* *The describe () methode dispays the statistical summany on numerical columns.*\n",
    "* \n",
    "**Interpretation**\n",
    "  * PlantNumber is not much relevant in summary statistics\n",
    "  * **Start:**\n",
    "  >*  The mean for the starting layer for optimal image selection is 27.02, where minimum starting layer is 8.0 and maximum starting layer is 49.0\n",
    "  * **End:**\n",
    "  >* The mean of end layer for optimal image selection is 36.99, where the minimum  layer is 14.0 and max layer is 60.0 wheras midian value is 37.0\n",
    "  * **RootVolume**\n",
    "  >* The mean value of root volume is 2.05.. while the minimum volume is 0.0 and max volume is 11.0 and the median volume is 1.9\n",
    "  "
   ]
  },
  {
   "cell_type": "code",
   "execution_count": 39,
   "id": "39c2c53e-640d-4e8b-ad44-b5423c49fdd3",
   "metadata": {},
   "outputs": [
    {
     "data": {
      "text/plain": [
       "ID             0\n",
       "FolderName     0\n",
       "PlantNumber    0\n",
       "Side           0\n",
       "Start          0\n",
       "End            0\n",
       "RootVolume     0\n",
       "Genotype       0\n",
       "Stage          0\n",
       "dtype: int64"
      ]
     },
     "execution_count": 39,
     "metadata": {},
     "output_type": "execute_result"
    }
   ],
   "source": [
    "# check for null values in the training set\n",
    "\n",
    "train_data.isnull().sum()"
   ]
  },
  {
   "cell_type": "markdown",
   "id": "b8acd4ff-6308-46f8-8204-16893571d694",
   "metadata": {},
   "source": [
    "* *from the output on checking the null values, it is clear that there is 0 missing values in the training set*"
   ]
  },
  {
   "cell_type": "code",
   "execution_count": 40,
   "id": "0beb41b4-9cb2-4f82-ade5-3d1524e98679",
   "metadata": {},
   "outputs": [
    {
     "data": {
      "text/plain": [
       "Side\n",
       "L    200\n",
       "R    186\n",
       "Name: count, dtype: int64"
      ]
     },
     "execution_count": 40,
     "metadata": {},
     "output_type": "execute_result"
    }
   ],
   "source": [
    "# check unique values for stage and side columns\n",
    "train_data.Side.value_counts()"
   ]
  },
  {
   "cell_type": "markdown",
   "id": "95147a64-eb11-4d7e-9f32-f7a8a08361a4",
   "metadata": {},
   "source": [
    "* *total number of Ls rows is 200 and total number of Rs records is 186*"
   ]
  },
  {
   "cell_type": "code",
   "execution_count": 41,
   "id": "56bcfc15-a0d6-4df7-a5ad-3849d5231ec9",
   "metadata": {},
   "outputs": [
    {
     "data": {
      "text/plain": [
       "Stage\n",
       "Early    370\n",
       "Late      16\n",
       "Name: count, dtype: int64"
      ]
     },
     "execution_count": 41,
     "metadata": {},
     "output_type": "execute_result"
    }
   ],
   "source": [
    "stage_col = train_data.Stage.value_counts()\n",
    "stage_col"
   ]
  },
  {
   "cell_type": "markdown",
   "id": "a91b795b-b2a9-474a-b1bd-1cbba53ae741",
   "metadata": {},
   "source": [
    "* *total number of Early rows is 370 and total number of Late records is 16*"
   ]
  },
  {
   "cell_type": "code",
   "execution_count": 42,
   "id": "e0ba8cae-7a35-4ac9-a62c-dee193fbc7a1",
   "metadata": {},
   "outputs": [
    {
     "data": {
      "image/png": "[encoded data removed]",
      "text/plain": [
       "<Figure size 640x480 with 1 Axes>"
      ]
     },
     "metadata": {},
     "output_type": "display_data"
    }
   ],
   "source": [
    "# bar graph to visualize the stages of cassava plant\n",
    "ax = stage_col.plot(kind = \"bar\" )\n",
    "\n",
    "for i in ax.containers:\n",
    "    ax.bar_label (i)"
   ]
  },
  {
   "cell_type": "code",
   "execution_count": 43,
   "id": "047b0472-7cfa-4677-9706-65ddf138ca8b",
   "metadata": {},
   "outputs": [
    {
     "data": {
      "text/plain": [
       "PlantNumber\n",
       "4    91\n",
       "3    82\n",
       "5    76\n",
       "6    52\n",
       "2    51\n",
       "1    18\n",
       "7    16\n",
       "Name: count, dtype: int64"
      ]
     },
     "execution_count": 43,
     "metadata": {},
     "output_type": "execute_result"
    }
   ],
   "source": [
    "plant_num_col = train_data.PlantNumber.value_counts()\n",
    "plant_num_col"
   ]
  },
  {
   "cell_type": "code",
   "execution_count": 44,
   "id": "2c340662-5d35-49c3-ae92-01f7f9e08ec4",
   "metadata": {},
   "outputs": [
    {
     "data": {
      "image/png": "[encoded data removed]",
      "text/plain": [
       "<Figure size 640x480 with 1 Axes>"
      ]
     },
     "metadata": {},
     "output_type": "display_data"
    }
   ],
   "source": [
    "# bar graph to visualize the plant number column\n",
    "ax = plant_num_col.plot(kind = \"bar\" )\n",
    "\n",
    "for i in ax.containers:\n",
    "    ax.bar_label (i)"
   ]
  },
  {
   "cell_type": "markdown",
   "id": "e9768653-bd5f-4a2e-bd04-bbd275cc515a",
   "metadata": {},
   "source": [
    "##### check for the duplicates"
   ]
  },
  {
   "cell_type": "code",
   "execution_count": 45,
   "id": "05984b97-b71d-4ba5-8733-8c5f8c535028",
   "metadata": {},
   "outputs": [
    {
     "data": {
      "text/html": [
       "<div>\n",
       "<style scoped>\n",
       "    .dataframe tbody tr th:only-of-type {\n",
       "        vertical-align: middle;\n",
       "    }\n",
       "\n",
       "    .dataframe tbody tr th {\n",
       "        vertical-align: top;\n",
       "    }\n",
       "\n",
       "    .dataframe thead th {\n",
       "        text-align: right;\n",
       "    }\n",
       "</style>\n",
       "<table border=\"1\" class=\"dataframe\">\n",
       "  <thead>\n",
       "    <tr style=\"text-align: right;\">\n",
       "      <th></th>\n",
       "      <th>ID</th>\n",
       "      <th>FolderName</th>\n",
       "      <th>PlantNumber</th>\n",
       "      <th>Side</th>\n",
       "      <th>Start</th>\n",
       "      <th>End</th>\n",
       "      <th>RootVolume</th>\n",
       "      <th>Genotype</th>\n",
       "      <th>Stage</th>\n",
       "    </tr>\n",
       "  </thead>\n",
       "  <tbody>\n",
       "  </tbody>\n",
       "</table>\n",
       "</div>"
      ],
      "text/plain": [
       "Empty DataFrame\n",
       "Columns: [ID, FolderName, PlantNumber, Side, Start, End, RootVolume, Genotype, Stage]\n",
       "Index: []"
      ]
     },
     "execution_count": 45,
     "metadata": {},
     "output_type": "execute_result"
    }
   ],
   "source": [
    "# Check for duplicate rows\n",
    "duplicate_rows = train_data[train_data.duplicated()]\n",
    "duplicate_rows\n",
    "\n"
   ]
  },
  {
   "cell_type": "code",
   "execution_count": 46,
   "id": "e552afa8-985c-4304-a9d7-09355e29ee8b",
   "metadata": {},
   "outputs": [
    {
     "data": {
      "text/html": [
       "<div>\n",
       "<style scoped>\n",
       "    .dataframe tbody tr th:only-of-type {\n",
       "        vertical-align: middle;\n",
       "    }\n",
       "\n",
       "    .dataframe tbody tr th {\n",
       "        vertical-align: top;\n",
       "    }\n",
       "\n",
       "    .dataframe thead th {\n",
       "        text-align: right;\n",
       "    }\n",
       "</style>\n",
       "<table border=\"1\" class=\"dataframe\">\n",
       "  <thead>\n",
       "    <tr style=\"text-align: right;\">\n",
       "      <th></th>\n",
       "      <th>ID</th>\n",
       "      <th>FolderName</th>\n",
       "      <th>PlantNumber</th>\n",
       "      <th>Side</th>\n",
       "      <th>Start</th>\n",
       "      <th>End</th>\n",
       "      <th>RootVolume</th>\n",
       "      <th>Genotype</th>\n",
       "      <th>Stage</th>\n",
       "    </tr>\n",
       "  </thead>\n",
       "  <tbody>\n",
       "  </tbody>\n",
       "</table>\n",
       "</div>"
      ],
      "text/plain": [
       "Empty DataFrame\n",
       "Columns: [ID, FolderName, PlantNumber, Side, Start, End, RootVolume, Genotype, Stage]\n",
       "Index: []"
      ]
     },
     "execution_count": 46,
     "metadata": {},
     "output_type": "execute_result"
    }
   ],
   "source": [
    "\n",
    "# Check for duplicate values based on a specific column (e.g., 'ID')\n",
    "duplicate_ids = train_data[train_data.duplicated(subset=['ID'])]\n",
    "duplicate_ids"
   ]
  },
  {
   "cell_type": "code",
   "execution_count": 47,
   "id": "195eb71a-ffda-4662-9334-8023700a4a40",
   "metadata": {},
   "outputs": [
    {
     "name": "stdout",
     "output_type": "stream",
     "text": [
      "0\n"
     ]
    }
   ],
   "source": [
    "# checking the total number of duplicate rows if any\n",
    "print(train_data.duplicated().sum()) # Total duplicate rows\n"
   ]
  },
  {
   "cell_type": "code",
   "execution_count": 48,
   "id": "7871893e-6136-41e4-a666-9784d5155d84",
   "metadata": {},
   "outputs": [
    {
     "name": "stdout",
     "output_type": "stream",
     "text": [
      "0\n"
     ]
    }
   ],
   "source": [
    "# checking the total number of duplicate rows if any using ID\n",
    "print(train_data.duplicated(subset=['ID']).sum())  # Duplicates in 'ID' column\n"
   ]
  },
  {
   "cell_type": "markdown",
   "id": "cdb27df4-dbff-4700-b2b3-713acacd4c29",
   "metadata": {},
   "source": [
    "* *From the analysis we can see there is no duplicared values in the dataset*"
   ]
  },
  {
   "cell_type": "markdown",
   "id": "240e1d83-aeed-41f3-bfcc-3ae7d6e851ce",
   "metadata": {},
   "source": [
    "##### **Checking for the outliears using boxplot**"
   ]
  },
  {
   "cell_type": "code",
   "execution_count": 49,
   "id": "611d5b67-ae5b-4811-b374-fb0e1d049e52",
   "metadata": {},
   "outputs": [
    {
     "data": {
      "text/html": [
       "<div>\n",
       "<style scoped>\n",
       "    .dataframe tbody tr th:only-of-type {\n",
       "        vertical-align: middle;\n",
       "    }\n",
       "\n",
       "    .dataframe tbody tr th {\n",
       "        vertical-align: top;\n",
       "    }\n",
       "\n",
       "    .dataframe thead th {\n",
       "        text-align: right;\n",
       "    }\n",
       "</style>\n",
       "<table border=\"1\" class=\"dataframe\">\n",
       "  <thead>\n",
       "    <tr style=\"text-align: right;\">\n",
       "      <th></th>\n",
       "      <th>ID</th>\n",
       "      <th>FolderName</th>\n",
       "      <th>PlantNumber</th>\n",
       "      <th>Side</th>\n",
       "      <th>Start</th>\n",
       "      <th>End</th>\n",
       "      <th>RootVolume</th>\n",
       "      <th>Genotype</th>\n",
       "      <th>Stage</th>\n",
       "    </tr>\n",
       "  </thead>\n",
       "  <tbody>\n",
       "    <tr>\n",
       "      <th>381</th>\n",
       "      <td>ID_592215_Hfzzen</td>\n",
       "      <td>Ntqusw7xpb</td>\n",
       "      <td>4</td>\n",
       "      <td>L</td>\n",
       "      <td>19</td>\n",
       "      <td>31</td>\n",
       "      <td>2.2</td>\n",
       "      <td>TMEB419</td>\n",
       "      <td>Early</td>\n",
       "    </tr>\n",
       "    <tr>\n",
       "      <th>382</th>\n",
       "      <td>ID_995502_L5bkz9</td>\n",
       "      <td>Izbgyxre0g</td>\n",
       "      <td>4</td>\n",
       "      <td>R</td>\n",
       "      <td>22</td>\n",
       "      <td>33</td>\n",
       "      <td>1.3</td>\n",
       "      <td>IBA154810</td>\n",
       "      <td>Early</td>\n",
       "    </tr>\n",
       "    <tr>\n",
       "      <th>383</th>\n",
       "      <td>ID_490708_Isn2o5</td>\n",
       "      <td>Efaiye0hmy</td>\n",
       "      <td>1</td>\n",
       "      <td>R</td>\n",
       "      <td>20</td>\n",
       "      <td>30</td>\n",
       "      <td>4.8</td>\n",
       "      <td>IBA980581</td>\n",
       "      <td>Early</td>\n",
       "    </tr>\n",
       "    <tr>\n",
       "      <th>384</th>\n",
       "      <td>ID_899134_Gyrlfg</td>\n",
       "      <td>Rzyf8hal4j</td>\n",
       "      <td>1</td>\n",
       "      <td>R</td>\n",
       "      <td>38</td>\n",
       "      <td>47</td>\n",
       "      <td>1.3</td>\n",
       "      <td>IBA154810</td>\n",
       "      <td>Early</td>\n",
       "    </tr>\n",
       "    <tr>\n",
       "      <th>385</th>\n",
       "      <td>ID_747792_Ofa0wh</td>\n",
       "      <td>Izbgyxre0g</td>\n",
       "      <td>6</td>\n",
       "      <td>R</td>\n",
       "      <td>22</td>\n",
       "      <td>33</td>\n",
       "      <td>3.7</td>\n",
       "      <td>IBA154810</td>\n",
       "      <td>Early</td>\n",
       "    </tr>\n",
       "  </tbody>\n",
       "</table>\n",
       "</div>"
      ],
      "text/plain": [
       "                   ID  FolderName  PlantNumber Side  Start  End  RootVolume  \\\n",
       "381  ID_592215_Hfzzen  Ntqusw7xpb            4    L     19   31         2.2   \n",
       "382  ID_995502_L5bkz9  Izbgyxre0g            4    R     22   33         1.3   \n",
       "383  ID_490708_Isn2o5  Efaiye0hmy            1    R     20   30         4.8   \n",
       "384  ID_899134_Gyrlfg  Rzyf8hal4j            1    R     38   47         1.3   \n",
       "385  ID_747792_Ofa0wh  Izbgyxre0g            6    R     22   33         3.7   \n",
       "\n",
       "      Genotype  Stage  \n",
       "381    TMEB419  Early  \n",
       "382  IBA154810  Early  \n",
       "383  IBA980581  Early  \n",
       "384  IBA154810  Early  \n",
       "385  IBA154810  Early  "
      ]
     },
     "execution_count": 49,
     "metadata": {},
     "output_type": "execute_result"
    }
   ],
   "source": [
    "train_data.tail()"
   ]
  },
  {
   "cell_type": "code",
   "execution_count": 50,
   "id": "3a7f7368-c002-4ec7-b4e9-e9eac6b9877f",
   "metadata": {},
   "outputs": [
    {
     "data": {
      "image/png": "[encoded data removed]",
      "text/plain": [
       "<Figure size 640x480 with 1 Axes>"
      ]
     },
     "metadata": {},
     "output_type": "display_data"
    }
   ],
   "source": [
    "#\n",
    "plt.boxplot(x= 'RootVolume', data = train_data)\n",
    "plt.show()"
   ]
  },
  {
   "cell_type": "code",
   "execution_count": 51,
   "id": "b2ee09a2-4102-45bb-b771-0eb318425772",
   "metadata": {},
   "outputs": [
    {
     "name": "stdout",
     "output_type": "stream",
     "text": [
      "Number of outliers in 'RootVolume': 14\n"
     ]
    }
   ],
   "source": [
    "\n",
    "\n",
    "# Calculate Q1 (25th percentile) and Q3 (75th percentile)\n",
    "Q1 = train_data['RootVolume'].quantile(0.25)\n",
    "Q3 = train_data['RootVolume'].quantile(0.75)\n",
    "\n",
    "# Compute IQR\n",
    "IQR = Q3 - Q1\n",
    "\n",
    "# Define bounds for outliers\n",
    "lower_bound = Q1 - 1.5 * IQR\n",
    "upper_bound = Q3 + 1.5 * IQR\n",
    "\n",
    "# Find outliers\n",
    "outliers = train_data[(train_data['RootVolume'] < lower_bound) | (train_data['RootVolume'] > upper_bound)]\n",
    "\n",
    "\n",
    "\n",
    "# Count outliers\n",
    "num_outliers = outliers.shape[0]\n",
    "print(f\"Number of outliers in 'RootVolume': {num_outliers}\")"
   ]
  },
  {
   "cell_type": "code",
   "execution_count": 52,
   "id": "ad93fb9b-f646-45af-bf2c-8828eb59898a",
   "metadata": {},
   "outputs": [
    {
     "data": {
      "text/html": [
       "<div>\n",
       "<style scoped>\n",
       "    .dataframe tbody tr th:only-of-type {\n",
       "        vertical-align: middle;\n",
       "    }\n",
       "\n",
       "    .dataframe tbody tr th {\n",
       "        vertical-align: top;\n",
       "    }\n",
       "\n",
       "    .dataframe thead th {\n",
       "        text-align: right;\n",
       "    }\n",
       "</style>\n",
       "<table border=\"1\" class=\"dataframe\">\n",
       "  <thead>\n",
       "    <tr style=\"text-align: right;\">\n",
       "      <th></th>\n",
       "      <th>ID</th>\n",
       "      <th>FolderName</th>\n",
       "      <th>PlantNumber</th>\n",
       "      <th>Side</th>\n",
       "      <th>Start</th>\n",
       "      <th>End</th>\n",
       "      <th>RootVolume</th>\n",
       "      <th>Genotype</th>\n",
       "      <th>Stage</th>\n",
       "    </tr>\n",
       "  </thead>\n",
       "  <tbody>\n",
       "    <tr>\n",
       "      <th>10</th>\n",
       "      <td>ID_199600_Ewizmo</td>\n",
       "      <td>Lzkaccojep</td>\n",
       "      <td>4</td>\n",
       "      <td>L</td>\n",
       "      <td>24</td>\n",
       "      <td>39</td>\n",
       "      <td>6.2</td>\n",
       "      <td>TMEB419</td>\n",
       "      <td>Early</td>\n",
       "    </tr>\n",
       "    <tr>\n",
       "      <th>39</th>\n",
       "      <td>ID_684183_Sdvb3a</td>\n",
       "      <td>Pctl4tyb9l</td>\n",
       "      <td>4</td>\n",
       "      <td>L</td>\n",
       "      <td>46</td>\n",
       "      <td>53</td>\n",
       "      <td>7.9</td>\n",
       "      <td>IITA-TMS-IBA000070</td>\n",
       "      <td>Early</td>\n",
       "    </tr>\n",
       "    <tr>\n",
       "      <th>66</th>\n",
       "      <td>ID_643905_Ruonfx</td>\n",
       "      <td>Lwuwokuhrf</td>\n",
       "      <td>5</td>\n",
       "      <td>R</td>\n",
       "      <td>15</td>\n",
       "      <td>30</td>\n",
       "      <td>5.8</td>\n",
       "      <td>TMEB419</td>\n",
       "      <td>Early</td>\n",
       "    </tr>\n",
       "    <tr>\n",
       "      <th>136</th>\n",
       "      <td>ID_579277_S5z2ov</td>\n",
       "      <td>B8x7mhxe6z</td>\n",
       "      <td>5</td>\n",
       "      <td>R</td>\n",
       "      <td>20</td>\n",
       "      <td>30</td>\n",
       "      <td>6.6</td>\n",
       "      <td>IBA154810</td>\n",
       "      <td>Early</td>\n",
       "    </tr>\n",
       "    <tr>\n",
       "      <th>154</th>\n",
       "      <td>ID_692153_Vihmpz</td>\n",
       "      <td>Mpmvh2mgm3</td>\n",
       "      <td>3</td>\n",
       "      <td>R</td>\n",
       "      <td>24</td>\n",
       "      <td>38</td>\n",
       "      <td>6.3</td>\n",
       "      <td>TMEB419</td>\n",
       "      <td>Early</td>\n",
       "    </tr>\n",
       "    <tr>\n",
       "      <th>155</th>\n",
       "      <td>ID_713907_Yoe0xx</td>\n",
       "      <td>Mpmvh2mgm3</td>\n",
       "      <td>5</td>\n",
       "      <td>L</td>\n",
       "      <td>32</td>\n",
       "      <td>40</td>\n",
       "      <td>6.3</td>\n",
       "      <td>TMEB419</td>\n",
       "      <td>Early</td>\n",
       "    </tr>\n",
       "    <tr>\n",
       "      <th>191</th>\n",
       "      <td>ID_352618_Bkgck9</td>\n",
       "      <td>F5lrpuuq8q</td>\n",
       "      <td>4</td>\n",
       "      <td>R</td>\n",
       "      <td>23</td>\n",
       "      <td>31</td>\n",
       "      <td>6.3</td>\n",
       "      <td>IBA980581</td>\n",
       "      <td>Early</td>\n",
       "    </tr>\n",
       "    <tr>\n",
       "      <th>230</th>\n",
       "      <td>ID_378076_Nrudei</td>\n",
       "      <td>Lzkaccojep</td>\n",
       "      <td>4</td>\n",
       "      <td>R</td>\n",
       "      <td>16</td>\n",
       "      <td>25</td>\n",
       "      <td>6.2</td>\n",
       "      <td>TMEB419</td>\n",
       "      <td>Early</td>\n",
       "    </tr>\n",
       "    <tr>\n",
       "      <th>235</th>\n",
       "      <td>ID_780516_Qapi7e</td>\n",
       "      <td>Lwuwokuhrf</td>\n",
       "      <td>3</td>\n",
       "      <td>L</td>\n",
       "      <td>25</td>\n",
       "      <td>40</td>\n",
       "      <td>5.8</td>\n",
       "      <td>TMEB419</td>\n",
       "      <td>Early</td>\n",
       "    </tr>\n",
       "    <tr>\n",
       "      <th>269</th>\n",
       "      <td>ID_700742_Mn3cha</td>\n",
       "      <td>Cvdxhjziab</td>\n",
       "      <td>3</td>\n",
       "      <td>L</td>\n",
       "      <td>10</td>\n",
       "      <td>23</td>\n",
       "      <td>5.9</td>\n",
       "      <td>IITA-TMS-IBA000070</td>\n",
       "      <td>Late</td>\n",
       "    </tr>\n",
       "    <tr>\n",
       "      <th>279</th>\n",
       "      <td>ID_660348_Duhci3</td>\n",
       "      <td>Ah4ubi4ggi</td>\n",
       "      <td>6</td>\n",
       "      <td>L</td>\n",
       "      <td>42</td>\n",
       "      <td>49</td>\n",
       "      <td>11.0</td>\n",
       "      <td>IITA-TMS-IBA000070</td>\n",
       "      <td>Early</td>\n",
       "    </tr>\n",
       "    <tr>\n",
       "      <th>293</th>\n",
       "      <td>ID_556927_D0wlds</td>\n",
       "      <td>Ah4ubi4ggi</td>\n",
       "      <td>2</td>\n",
       "      <td>R</td>\n",
       "      <td>27</td>\n",
       "      <td>44</td>\n",
       "      <td>11.0</td>\n",
       "      <td>IITA-TMS-IBA000070</td>\n",
       "      <td>Early</td>\n",
       "    </tr>\n",
       "    <tr>\n",
       "      <th>304</th>\n",
       "      <td>ID_598272_Axnwor</td>\n",
       "      <td>B8x7mhxe6z</td>\n",
       "      <td>3</td>\n",
       "      <td>L</td>\n",
       "      <td>23</td>\n",
       "      <td>33</td>\n",
       "      <td>6.6</td>\n",
       "      <td>IBA154810</td>\n",
       "      <td>Early</td>\n",
       "    </tr>\n",
       "    <tr>\n",
       "      <th>330</th>\n",
       "      <td>ID_441610_X5hyun</td>\n",
       "      <td>Hqcekwpxgu</td>\n",
       "      <td>6</td>\n",
       "      <td>R</td>\n",
       "      <td>30</td>\n",
       "      <td>39</td>\n",
       "      <td>6.2</td>\n",
       "      <td>IITA-TMS-IBA000070</td>\n",
       "      <td>Early</td>\n",
       "    </tr>\n",
       "  </tbody>\n",
       "</table>\n",
       "</div>"
      ],
      "text/plain": [
       "                   ID  FolderName  PlantNumber Side  Start  End  RootVolume  \\\n",
       "10   ID_199600_Ewizmo  Lzkaccojep            4    L     24   39         6.2   \n",
       "39   ID_684183_Sdvb3a  Pctl4tyb9l            4    L     46   53         7.9   \n",
       "66   ID_643905_Ruonfx  Lwuwokuhrf            5    R     15   30         5.8   \n",
       "136  ID_579277_S5z2ov  B8x7mhxe6z            5    R     20   30         6.6   \n",
       "154  ID_692153_Vihmpz  Mpmvh2mgm3            3    R     24   38         6.3   \n",
       "155  ID_713907_Yoe0xx  Mpmvh2mgm3            5    L     32   40         6.3   \n",
       "191  ID_352618_Bkgck9  F5lrpuuq8q            4    R     23   31         6.3   \n",
       "230  ID_378076_Nrudei  Lzkaccojep            4    R     16   25         6.2   \n",
       "235  ID_780516_Qapi7e  Lwuwokuhrf            3    L     25   40         5.8   \n",
       "269  ID_700742_Mn3cha  Cvdxhjziab            3    L     10   23         5.9   \n",
       "279  ID_660348_Duhci3  Ah4ubi4ggi            6    L     42   49        11.0   \n",
       "293  ID_556927_D0wlds  Ah4ubi4ggi            2    R     27   44        11.0   \n",
       "304  ID_598272_Axnwor  B8x7mhxe6z            3    L     23   33         6.6   \n",
       "330  ID_441610_X5hyun  Hqcekwpxgu            6    R     30   39         6.2   \n",
       "\n",
       "               Genotype  Stage  \n",
       "10              TMEB419  Early  \n",
       "39   IITA-TMS-IBA000070  Early  \n",
       "66              TMEB419  Early  \n",
       "136           IBA154810  Early  \n",
       "154             TMEB419  Early  \n",
       "155             TMEB419  Early  \n",
       "191           IBA980581  Early  \n",
       "230             TMEB419  Early  \n",
       "235             TMEB419  Early  \n",
       "269  IITA-TMS-IBA000070   Late  \n",
       "279  IITA-TMS-IBA000070  Early  \n",
       "293  IITA-TMS-IBA000070  Early  \n",
       "304           IBA154810  Early  \n",
       "330  IITA-TMS-IBA000070  Early  "
      ]
     },
     "execution_count": 52,
     "metadata": {},
     "output_type": "execute_result"
    }
   ],
   "source": [
    "# Display the outliers\n",
    "outliers"
   ]
  },
  {
   "cell_type": "code",
   "execution_count": 53,
   "id": "cc4a3c7e-3848-41fc-9a15-078443c3e7ac",
   "metadata": {},
   "outputs": [],
   "source": [
    "# Filtering out the outliers\n",
    "train_dat2 = train_data[(train_data['RootVolume']>=lower_bound) & (train_data['RootVolume'] <=upper_bound) ]"
   ]
  },
  {
   "cell_type": "code",
   "execution_count": 54,
   "id": "d85b2ec5-b86c-451b-8810-6bc79d478a14",
   "metadata": {},
   "outputs": [
    {
     "data": {
      "image/png": "[encoded data removed]",
      "text/plain": [
       "<Figure size 640x480 with 1 Axes>"
      ]
     },
     "metadata": {},
     "output_type": "display_data"
    }
   ],
   "source": [
    "plt.boxplot(x= 'RootVolume', data = train_dat2 )\n",
    "plt.show()"
   ]
  },
  {
   "cell_type": "code",
   "execution_count": 55,
   "id": "0abccfaf-1bb7-4796-b081-aa5d320cdd73",
   "metadata": {},
   "outputs": [
    {
     "data": {
      "text/plain": [
       "(372, 9)"
      ]
     },
     "execution_count": 55,
     "metadata": {},
     "output_type": "execute_result"
    }
   ],
   "source": [
    "train_dat2.shape"
   ]
  },
  {
   "cell_type": "code",
   "execution_count": 56,
   "id": "f44f2239-6b9a-42c2-ace4-afd323aba2ab",
   "metadata": {},
   "outputs": [
    {
     "data": {
      "text/html": [
       "<div>\n",
       "<style scoped>\n",
       "    .dataframe tbody tr th:only-of-type {\n",
       "        vertical-align: middle;\n",
       "    }\n",
       "\n",
       "    .dataframe tbody tr th {\n",
       "        vertical-align: top;\n",
       "    }\n",
       "\n",
       "    .dataframe thead th {\n",
       "        text-align: right;\n",
       "    }\n",
       "</style>\n",
       "<table border=\"1\" class=\"dataframe\">\n",
       "  <thead>\n",
       "    <tr style=\"text-align: right;\">\n",
       "      <th></th>\n",
       "      <th>ID</th>\n",
       "      <th>FolderName</th>\n",
       "      <th>PlantNumber</th>\n",
       "      <th>Side</th>\n",
       "      <th>Start</th>\n",
       "      <th>End</th>\n",
       "      <th>RootVolume</th>\n",
       "      <th>Genotype</th>\n",
       "      <th>Stage</th>\n",
       "    </tr>\n",
       "  </thead>\n",
       "  <tbody>\n",
       "    <tr>\n",
       "      <th>0</th>\n",
       "      <td>ID_826322_Lbmaya</td>\n",
       "      <td>A6dzrkjqvl</td>\n",
       "      <td>3</td>\n",
       "      <td>L</td>\n",
       "      <td>33</td>\n",
       "      <td>42</td>\n",
       "      <td>0.9</td>\n",
       "      <td>IITA-TMS-IBA000070</td>\n",
       "      <td>Early</td>\n",
       "    </tr>\n",
       "    <tr>\n",
       "      <th>1</th>\n",
       "      <td>ID_718181_Bslpwx</td>\n",
       "      <td>Ypktwvqjbn</td>\n",
       "      <td>7</td>\n",
       "      <td>L</td>\n",
       "      <td>33</td>\n",
       "      <td>41</td>\n",
       "      <td>1.5</td>\n",
       "      <td>IBA154810</td>\n",
       "      <td>Early</td>\n",
       "    </tr>\n",
       "    <tr>\n",
       "      <th>2</th>\n",
       "      <td>ID_465762_L1n61d</td>\n",
       "      <td>Ox18ob0syv</td>\n",
       "      <td>4</td>\n",
       "      <td>R</td>\n",
       "      <td>21</td>\n",
       "      <td>28</td>\n",
       "      <td>2.7</td>\n",
       "      <td>IBA980581</td>\n",
       "      <td>Early</td>\n",
       "    </tr>\n",
       "    <tr>\n",
       "      <th>3</th>\n",
       "      <td>ID_626872_Pbmx2e</td>\n",
       "      <td>Hqcekwpxgu</td>\n",
       "      <td>2</td>\n",
       "      <td>R</td>\n",
       "      <td>30</td>\n",
       "      <td>39</td>\n",
       "      <td>2.6</td>\n",
       "      <td>IITA-TMS-IBA000070</td>\n",
       "      <td>Early</td>\n",
       "    </tr>\n",
       "    <tr>\n",
       "      <th>4</th>\n",
       "      <td>ID_518846_Opko8c</td>\n",
       "      <td>Ummqfuetoc</td>\n",
       "      <td>1</td>\n",
       "      <td>R</td>\n",
       "      <td>17</td>\n",
       "      <td>26</td>\n",
       "      <td>2.7</td>\n",
       "      <td>IBA980581</td>\n",
       "      <td>Early</td>\n",
       "    </tr>\n",
       "  </tbody>\n",
       "</table>\n",
       "</div>"
      ],
      "text/plain": [
       "                 ID  FolderName  PlantNumber Side  Start  End  RootVolume  \\\n",
       "0  ID_826322_Lbmaya  A6dzrkjqvl            3    L     33   42         0.9   \n",
       "1  ID_718181_Bslpwx  Ypktwvqjbn            7    L     33   41         1.5   \n",
       "2  ID_465762_L1n61d  Ox18ob0syv            4    R     21   28         2.7   \n",
       "3  ID_626872_Pbmx2e  Hqcekwpxgu            2    R     30   39         2.6   \n",
       "4  ID_518846_Opko8c  Ummqfuetoc            1    R     17   26         2.7   \n",
       "\n",
       "             Genotype  Stage  \n",
       "0  IITA-TMS-IBA000070  Early  \n",
       "1           IBA154810  Early  \n",
       "2           IBA980581  Early  \n",
       "3  IITA-TMS-IBA000070  Early  \n",
       "4           IBA980581  Early  "
      ]
     },
     "execution_count": 56,
     "metadata": {},
     "output_type": "execute_result"
    }
   ],
   "source": [
    "train_dat2.head()"
   ]
  },
  {
   "cell_type": "code",
   "execution_count": 57,
   "id": "70d0711f-1a8c-47f8-9133-2cc03fd5cd0c",
   "metadata": {},
   "outputs": [
    {
     "data": {
      "image/png": "[encoded data removed]",
      "text/plain": [
       "<Figure size 640x480 with 1 Axes>"
      ]
     },
     "metadata": {},
     "output_type": "display_data"
    }
   ],
   "source": [
    "plt.scatter(train_dat2['Start'], train_dat2['RootVolume'], alpha=0.6, color='g')\n",
    "plt.xlabel('Start')\n",
    "plt.ylabel('RootVolume')\n",
    "plt.title('Scatter Plot of Start Time vs. RootVolume')\n",
    "plt.show()"
   ]
  },
  {
   "cell_type": "code",
   "execution_count": 58,
   "id": "ca99d747-e227-4688-bb83-f1ad890d203f",
   "metadata": {},
   "outputs": [
    {
     "data": {
      "image/png": "[encoded data removed]",
      "text/plain": [
       "<Figure size 640x480 with 1 Axes>"
      ]
     },
     "metadata": {},
     "output_type": "display_data"
    }
   ],
   "source": [
    "plt.scatter(train_dat2['End'], train_dat2['RootVolume'], alpha=0.6, color='g')\n",
    "plt.xlabel('End')\n",
    "plt.ylabel('RootVolume')\n",
    "plt.title('Scatter Plot of End Time vs. RootVolume')\n",
    "plt.show()"
   ]
  },
  {
   "cell_type": "code",
   "execution_count": null,
   "id": "41d2d609-a8db-436e-b1bc-e7220de48fe2",
   "metadata": {},
   "outputs": [],
   "source": []
  },
  {
   "cell_type": "code",
   "execution_count": 59,
   "id": "367326ed-683b-4f99-a90f-0b3ac767edfc",
   "metadata": {},
   "outputs": [
    {
     "data": {
      "text/html": [
       "<div>\n",
       "<style scoped>\n",
       "    .dataframe tbody tr th:only-of-type {\n",
       "        vertical-align: middle;\n",
       "    }\n",
       "\n",
       "    .dataframe tbody tr th {\n",
       "        vertical-align: top;\n",
       "    }\n",
       "\n",
       "    .dataframe thead th {\n",
       "        text-align: right;\n",
       "    }\n",
       "</style>\n",
       "<table border=\"1\" class=\"dataframe\">\n",
       "  <thead>\n",
       "    <tr style=\"text-align: right;\">\n",
       "      <th></th>\n",
       "      <th>PlantNumber</th>\n",
       "      <th>Start</th>\n",
       "      <th>End</th>\n",
       "      <th>RootVolume</th>\n",
       "    </tr>\n",
       "  </thead>\n",
       "  <tbody>\n",
       "    <tr>\n",
       "      <th>0</th>\n",
       "      <td>3</td>\n",
       "      <td>33</td>\n",
       "      <td>42</td>\n",
       "      <td>0.9</td>\n",
       "    </tr>\n",
       "    <tr>\n",
       "      <th>1</th>\n",
       "      <td>7</td>\n",
       "      <td>33</td>\n",
       "      <td>41</td>\n",
       "      <td>1.5</td>\n",
       "    </tr>\n",
       "    <tr>\n",
       "      <th>2</th>\n",
       "      <td>4</td>\n",
       "      <td>21</td>\n",
       "      <td>28</td>\n",
       "      <td>2.7</td>\n",
       "    </tr>\n",
       "    <tr>\n",
       "      <th>3</th>\n",
       "      <td>2</td>\n",
       "      <td>30</td>\n",
       "      <td>39</td>\n",
       "      <td>2.6</td>\n",
       "    </tr>\n",
       "    <tr>\n",
       "      <th>4</th>\n",
       "      <td>1</td>\n",
       "      <td>17</td>\n",
       "      <td>26</td>\n",
       "      <td>2.7</td>\n",
       "    </tr>\n",
       "  </tbody>\n",
       "</table>\n",
       "</div>"
      ],
      "text/plain": [
       "   PlantNumber  Start  End  RootVolume\n",
       "0            3     33   42         0.9\n",
       "1            7     33   41         1.5\n",
       "2            4     21   28         2.7\n",
       "3            2     30   39         2.6\n",
       "4            1     17   26         2.7"
      ]
     },
     "execution_count": 59,
     "metadata": {},
     "output_type": "execute_result"
    }
   ],
   "source": [
    "import seaborn as sns\n",
    "\n",
    "corr_cols = train_dat2[['PlantNumber', 'Start', 'End', 'RootVolume']]\n",
    "corr_cols.head()\n"
   ]
  },
  {
   "cell_type": "code",
   "execution_count": 60,
   "id": "0c6a1a9f-1641-4410-ad0b-67f540944ecc",
   "metadata": {},
   "outputs": [
    {
     "data": {
      "text/html": [
       "<div>\n",
       "<style scoped>\n",
       "    .dataframe tbody tr th:only-of-type {\n",
       "        vertical-align: middle;\n",
       "    }\n",
       "\n",
       "    .dataframe tbody tr th {\n",
       "        vertical-align: top;\n",
       "    }\n",
       "\n",
       "    .dataframe thead th {\n",
       "        text-align: right;\n",
       "    }\n",
       "</style>\n",
       "<table border=\"1\" class=\"dataframe\">\n",
       "  <thead>\n",
       "    <tr style=\"text-align: right;\">\n",
       "      <th></th>\n",
       "      <th>PlantNumber</th>\n",
       "      <th>Start</th>\n",
       "      <th>End</th>\n",
       "      <th>RootVolume</th>\n",
       "    </tr>\n",
       "  </thead>\n",
       "  <tbody>\n",
       "    <tr>\n",
       "      <th>PlantNumber</th>\n",
       "      <td>1.000000</td>\n",
       "      <td>0.069999</td>\n",
       "      <td>0.071646</td>\n",
       "      <td>-0.067492</td>\n",
       "    </tr>\n",
       "    <tr>\n",
       "      <th>Start</th>\n",
       "      <td>0.069999</td>\n",
       "      <td>1.000000</td>\n",
       "      <td>0.891714</td>\n",
       "      <td>-0.156558</td>\n",
       "    </tr>\n",
       "    <tr>\n",
       "      <th>End</th>\n",
       "      <td>0.071646</td>\n",
       "      <td>0.891714</td>\n",
       "      <td>1.000000</td>\n",
       "      <td>-0.092754</td>\n",
       "    </tr>\n",
       "    <tr>\n",
       "      <th>RootVolume</th>\n",
       "      <td>-0.067492</td>\n",
       "      <td>-0.156558</td>\n",
       "      <td>-0.092754</td>\n",
       "      <td>1.000000</td>\n",
       "    </tr>\n",
       "  </tbody>\n",
       "</table>\n",
       "</div>"
      ],
      "text/plain": [
       "             PlantNumber     Start       End  RootVolume\n",
       "PlantNumber     1.000000  0.069999  0.071646   -0.067492\n",
       "Start           0.069999  1.000000  0.891714   -0.156558\n",
       "End             0.071646  0.891714  1.000000   -0.092754\n",
       "RootVolume     -0.067492 -0.156558 -0.092754    1.000000"
      ]
     },
     "execution_count": 60,
     "metadata": {},
     "output_type": "execute_result"
    }
   ],
   "source": [
    "# Calculate the correlation matrix\n",
    "corr_matrix = corr_cols.corr()\n",
    "corr_matrix\n",
    "\n"
   ]
  },
  {
   "cell_type": "code",
   "execution_count": 61,
   "id": "bd5124ce-cb54-4f63-96e7-2bd75b7820e8",
   "metadata": {},
   "outputs": [
    {
     "data": {
      "image/png": "[encoded data removed]",
      "text/plain": [
       "<Figure size 800x600 with 2 Axes>"
      ]
     },
     "metadata": {},
     "output_type": "display_data"
    }
   ],
   "source": [
    "# Creating  the heatmap\n",
    "plt.figure(figsize=(8,6))\n",
    "sns.heatmap(corr_matrix, annot=True, cmap='coolwarm', fmt=\".2f\", linewidths=0.5)\n",
    "plt.title(\"Correlation Heatmap\")\n",
    "plt.show()"
   ]
  },
  {
   "cell_type": "code",
   "execution_count": null,
   "id": "216bb446-188b-4ef2-a711-f6c7721255e4",
   "metadata": {},
   "outputs": [],
   "source": []
  },
  {
   "cell_type": "code",
   "execution_count": null,
   "id": "313e9244-f2f6-4985-8863-69c7eda607a8",
   "metadata": {},
   "outputs": [],
   "source": []
  },
  {
   "cell_type": "code",
   "execution_count": null,
   "id": "6ad2123a-d1f3-4655-8aae-21dfbc637579",
   "metadata": {},
   "outputs": [],
   "source": []
  }
 ],
 "metadata": {
  "kernelspec": {
   "display_name": "Python 3 (ipykernel)",
   "language": "python",
   "name": "python3"
  },
  "language_info": {
   "codemirror_mode": {
    "name": "ipython",
    "version": 3
   },
   "file_extension": ".py",
   "mimetype": "text/x-python",
   "name": "python",
   "nbconvert_exporter": "python",
   "pygments_lexer": "ipython3",
   "version": "3.9.19"
  }
 },
 "nbformat": 4,
 "nbformat_minor": 5
}
